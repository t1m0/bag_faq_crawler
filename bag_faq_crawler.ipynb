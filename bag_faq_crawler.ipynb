{
 "cells": [
  {
   "cell_type": "code",
   "execution_count": 26,
   "metadata": {},
   "outputs": [],
   "source": [
    "# pip install requests\n",
    "import requests\n",
    "# pip install parsel \n",
    "from parsel import Selector"
   ]
  },
  {
   "cell_type": "code",
   "execution_count": 27,
   "metadata": {},
   "outputs": [],
   "source": [
    "faqEntries = {}\n",
    "def extractEntries(currentPage):\n",
    "    currentEntries = currentPage.css('span a[href]')\n",
    "    for e in currentEntries:\n",
    "        link = e.xpath('@href').get()\n",
    "        question = e.xpath('text()').get()\n",
    "        faqEntries[link] = question\n"
   ]
  },
  {
   "cell_type": "markdown",
   "metadata": {},
   "source": [
    "Load initial page"
   ]
  },
  {
   "cell_type": "code",
   "execution_count": 28,
   "metadata": {},
   "outputs": [],
   "source": [
    "response = requests.get('https://www.faq.bag.admin.ch/en/categories/vaccination')\n",
    "selector = Selector(response.text)"
   ]
  },
  {
   "cell_type": "markdown",
   "metadata": {},
   "source": [
    "Load questions of initial page"
   ]
  },
  {
   "cell_type": "code",
   "execution_count": 29,
   "metadata": {},
   "outputs": [],
   "source": [
    "extractEntries(selector)"
   ]
  },
  {
   "cell_type": "markdown",
   "metadata": {},
   "source": [
    "Load other available pages"
   ]
  },
  {
   "cell_type": "code",
   "execution_count": 32,
   "metadata": {},
   "outputs": [],
   "source": [
    "faqPageSelectors = selector.css('a[title][href]')\n",
    "faqPageUrls = []\n",
    "for p in faqPageSelectors:\n",
    "    url = p.xpath('@href').get()\n",
    "    if \"page\" in url:\n",
    "        response = requests.get('https://www.faq.bag.admin.ch'+url)\n",
    "        selector = Selector(response.text)\n",
    "        extractEntries(selector)"
   ]
  },
  {
   "cell_type": "markdown",
   "metadata": {},
   "source": [
    "Count available questions"
   ]
  },
  {
   "cell_type": "code",
   "execution_count": 34,
   "metadata": {},
   "outputs": [
    {
     "data": {
      "text/plain": [
       "60"
      ]
     },
     "execution_count": 34,
     "metadata": {},
     "output_type": "execute_result"
    }
   ],
   "source": [
    "len(faqEntries)"
   ]
  },
  {
   "cell_type": "markdown",
   "metadata": {},
   "source": [
    "Extract answers"
   ]
  },
  {
   "cell_type": "code",
   "execution_count": 51,
   "metadata": {},
   "outputs": [],
   "source": [
    "class FAQEntry:\n",
    "    link = ''\n",
    "    question = ''\n",
    "    answer = ''\n",
    "\n",
    "finalEntries = []\n",
    "for e in faqEntries:\n",
    "    link = 'https://www.faq.bag.admin.ch'+e;\n",
    "    response = requests.get(link)\n",
    "    selector = Selector(response.text)\n",
    "    answer = selector.css('.field-item.even p').xpath('text()').get()\n",
    "    if answer:\n",
    "        entry = FAQEntry()\n",
    "        entry.link = link\n",
    "        entry.question = faqEntries[e]\n",
    "        entry.answer = answer\n",
    "        finalEntries.append(entry)"
   ]
  },
  {
   "cell_type": "markdown",
   "metadata": {},
   "source": [
    "Print extracted entries"
   ]
  },
  {
   "cell_type": "code",
   "execution_count": 52,
   "metadata": {},
   "outputs": [
    {
     "name": "stdout",
     "output_type": "stream",
     "text": [
      "Link: https://www.faq.bag.admin.ch/en/vaccination-registration-and-organisation/how-and-where-can-i-register-vaccination\n",
      "Question: How and where can I register for the vaccination?\n",
      "Answer: You will find information on how vaccinations are organised in your canton and where you can register on the website of your canton. You’ll find a list of cantonal websites here: \n",
      "----------------\n",
      "Link: https://www.faq.bag.admin.ch/en/vaccination-change-measures-vaccinated-people/do-i-still-have-go-quarantineisolation-if-i-have-been\n",
      "Question: Do I still have to go into quarantine/isolation if I have been vaccinated?\n",
      "Answer: The \n",
      "----------------\n",
      "Link: https://www.faq.bag.admin.ch/en/vaccination-vaccination-recommendations-and-strategy/which-persons-are-not-being-vaccinated-present\n",
      "Question: Which persons are not being vaccinated at present?\n",
      "Answer: The following persons should not be vaccinated against COVID-19 with the approved Pfizer/BioNTech and Moderna vaccines:\n",
      "----------------\n",
      "Link: https://www.faq.bag.admin.ch/en/vaccination-cross-border-commuters-and-international/can-tourists-be-vaccinated-switzerland\n",
      "Question: Can tourists be vaccinated in Switzerland?\n",
      "Answer: As long as there are not sufficient doses of vaccine available for the entire Swiss population, the COVID-19 vaccination is reserved for people with their place of residence in Switzerland.\n",
      "----------------\n",
      "Link: https://www.faq.bag.admin.ch/en/vaccination-cross-border-commuters-and-international/does-confirmation-vaccination-enable-me-travel\n",
      "Question: Does confirmation of the vaccination enable me to travel freely again? \n",
      "Answer: Each country stipulates its own entry requirements. It is already common for proof of vaccination (for example proof of yellow fever vaccination) to be required for entry to certain countries. \n",
      "----------------\n",
      "Link: https://www.faq.bag.admin.ch/en/vaccination-registration-and-organisation/where-can-i-register-appointment-have-vaccination-if-i%E2%80%99m\n",
      "Question: Where can I register for an appointment to have the vaccination if I’m not in a priority target group?\n",
      "Answer: The planning and organisation of vaccinations varies from canton to canton. Pre-registration for the vaccination started mid-January in most cantons. You’ll find more information on this on the \n",
      "----------------\n",
      "Link: https://www.faq.bag.admin.ch/en/vaccination-information-vaccines/if-more-one-vaccine-approved-switzerland-can-i-choose-between\n",
      "Question: If more than one vaccine is approved in Switzerland can I choose between vaccines? Who decides what vaccine I am given?\n",
      "Answer: You currently cannot choose between vaccines. Both approved mRNA vaccines are equal in terms of efficacy and safety. They are therefore recommended to the same target groups.\n",
      "----------------\n",
      "Link: https://www.faq.bag.admin.ch/en/vaccination-side-effects-and-liability/can-i-have-vaccination-if-i-have-allergy\n",
      "Question: Can I have the vaccination if I have an allergy?\n",
      "Answer: You can have the vaccination if you have an allergy to food, pollen, house dust mites, animals, insect venom, latex or medications other than the Pfizer/BioNTech and Moderna vaccines. You can have the vaccination even if you have had a strong reaction to another vaccine in the past. This is because each vaccine and each drug has different components that do not always lead to an allergic reaction.\n",
      "----------------\n",
      "Link: https://www.faq.bag.admin.ch/en/vaccination-carrying-out-vaccination/how-vaccine-administered-and-how-many-doses-are-required\n",
      "Question: How is the vaccine administered and how many doses are required?\n",
      "Answer: The vaccine is injected into the upper arm. Two doses are required. The second injection is performed about four weeks after the first. The same vaccine must be used for both injections. Both doses are necessary in order to provide protection.\n",
      "----------------\n",
      "Link: https://www.faq.bag.admin.ch/en/vaccination-side-effects-and-liability/what-side-effects-can-occur-after-vaccination\n",
      "Question: What side effects can occur after the vaccination?\n",
      "Answer: The vaccines administered in Switzerland are safe and effective. As is the case with all medications, vaccines can cause side effects. They are usually mild and of short duration.\n",
      "----------------\n",
      "Link: https://www.faq.bag.admin.ch/en/vaccination-vaccination-recommendations-and-strategy/what-vaccination-strategy\n",
      "Question: What is the vaccination strategy?\n",
      "Answer: The vaccination strategy defines the overarching vaccination objectives, the target groups and the order in which the groups are to be vaccinated if vaccine availability is limited.\n",
      "----------------\n",
      "Link: https://www.faq.bag.admin.ch/en/carrying-out-vaccination/am-i-already-protected-getting-coronavirus-disease-after-first-dose-vaccine\n",
      "Question: Am I already protected from getting coronavirus disease after the first dose of vaccine? \n",
      "Answer: Around two weeks after the first dose of vaccine there is already some protection from getting the disease. Nevertheless, it’s important to have both vaccinations. Only then are you protected as well as possible from the disease.\n",
      "----------------\n",
      "Link: https://www.faq.bag.admin.ch/en/vaccination-registration-and-organisation/can-i-only-be-vaccinated-my-canton-residence-and-who\n",
      "Question: Can I only be vaccinated in my canton of residence and who covers the costs?\n",
      "Answer: No, you’re free to choose where you go for the vaccination. The tariff agreement is valid all over Switzerland. So the vaccination is independent of your place of residence or the place you’re receiving ongoing treatment.\n",
      "----------------\n",
      "Link: https://www.faq.bag.admin.ch/en/vaccination-change-measures-vaccinated-people/does-test-procedure-change-if-i-have-had-vaccination\n",
      "Question: Does the test procedure change if I have had the vaccination? \n",
      "Answer: The \n",
      "----------------\n",
      "Link: https://www.faq.bag.admin.ch/en/vaccination-vaccination-recommendations-and-strategy/vaccination-still-recommended-if-i%E2%80%99ve-already\n",
      "Question: Is the vaccination still recommended if I’ve already had the new coronavirus?\n",
      "Answer: Yes. We recommend you get vaccinated even if you have already had the new coronavirus. It is not yet clear how long you are protected after you have had the disease. The data suggests that you are protected from renewed infection for at least three months. For this reason vaccination is also recommended if you have already contracted the coronavirus, but only once three months have elapsed since you had the disease. The vaccination provides optimum protection and gives your immune system an additional boost.\n",
      "----------------\n",
      "Link: https://www.faq.bag.admin.ch/en/vaccination-side-effects-and-liability/what-covid-arm\n",
      "Question: What is COVID arm?\n",
      "Answer: COVID arm describes the redness and swelling, sometimes over a large area, that can affect the arm where the vaccine has been injected. If these reactions occur around the injection site, in most cases it’s a week or so after the vaccination. They have been observed more frequently after vaccination with the Moderna vaccine. According to the latest findings, these reactions occur in around 8 in 1,000 people after the first dose of vaccine. They occur in around 2 out of 1,000 vaccinated people after the second dose.\n",
      "----------------\n",
      "Link: https://www.faq.bag.admin.ch/en/vaccination-side-effects-and-liability/who-liable-any-vaccination-damage\n",
      "Question: Who is liable for any vaccination damage?\n",
      "Answer: The usual liability rules that apply to other medicinal products and vaccines also apply to the COVID-19 vaccination. Liability for vaccination damage could fall to the vaccine manufacturer (product liability), the vaccination centre (agent’s contract liability or state liability) or, on a subsidiary basis, the federal government.\n",
      "----------------\n",
      "Link: https://www.faq.bag.admin.ch/en/side-effects-and-liability/how-long-after-vaccination-can-side-effects-occur\n",
      "Question: How long after the vaccination can side effects occur?\n",
      "Answer: Generally any side effects can be expected in the first 6 months after the vaccination. However, most side effects occur shortly after the vaccination. As a rule they are mild and last only a short time. Similar to the side effects of other vaccinations, these are mostly reactions at the injection site (pain in particular, but also redness and swelling) or general symptoms (such as fatigue, headache, aching muscles and joints or fever).\n",
      "----------------\n",
      "Link: https://www.faq.bag.admin.ch/en/vaccination-vaccination-documentation/how-my-covid-19-vaccination-documented\n",
      "Question: How is my COVID-19 vaccination documented?\n",
      "Answer: Find more information on the \n",
      "----------------\n",
      "Link: https://www.faq.bag.admin.ch/en/vaccination-information-vaccines/are-there-differences-between-pfizerbiontech-and-moderna-vaccines\n",
      "Question: Are there differences between the Pfizer/BioNTech and Moderna vaccines?\n",
      "Answer: There are only a small number of differences between the Pfizer/BioNTech and Moderna vaccines.\n",
      "----------------\n",
      "Link: https://www.faq.bag.admin.ch/en/vaccination-carrying-out-vaccination/should-i-have-vaccination-if-i%E2%80%99m-ill\n",
      "Question: Should I have the vaccination if I’m ill?\n",
      "Answer: It’s better to postpone the vaccination if you have a high temperature and feel ill or unwell. But you should make sure you get the vaccination once you have no more symptoms.\n",
      "----------------\n",
      "Link: https://www.faq.bag.admin.ch/en/vaccination-documentation/everyone-who-gets-vaccinated-receives-proof-vaccination-paper-form-what\n",
      "Question: Everyone who gets vaccinated receives proof of vaccination in paper form. What information does this document contain?\n",
      "Answer: The proof of vaccination contains the location and date of the vaccination as well as information on the vaccine administered (trade name, manufacturer, batch number). It may also be signed and stamped and may feature the name of the professional who administered the vaccine. The proof of vaccination can vary depending on the cantonal regulations and vaccination centre requirements.\n",
      "----------------\n",
      "Link: https://www.faq.bag.admin.ch/en/vaccination-vaccination-recommendations-and-strategy/who-be-vaccinated-first\n",
      "Question: Who is to be vaccinated first?\n",
      "Answer: The plan is to prioritise vaccination of target groups of people in this order:\n",
      "----------------\n",
      "Link: https://www.faq.bag.admin.ch/en/vaccination-carrying-out-vaccination/can-i-also-get-vaccinated-other-diseases-parallel-covid-19\n",
      "Question: Can I also get vaccinated for other diseases in parallel with the COVID-19 vaccination? \n",
      "Answer: Yes. But there should be an interval of around a week between vaccinations.\n",
      "----------------\n",
      "Link: https://www.faq.bag.admin.ch/en/vaccination-documentation/what-certificate-will-i-receive-after-covid-19-vaccination-official\n",
      "Question: What certificate will I receive after the COVID-19 vaccination? Is this an official national/international document? \n",
      "Answer: The vaccination locations (vaccination centre, medical practice, pharmacy) decide how vaccinations are documented. In most cases, you will receive printed proof of vaccination after you have been vaccinated. The proof of vaccination contains the location and date of the vaccination and information on the vaccine administered (trade name, manufacturer, batch number).\n",
      "----------------\n",
      "Link: https://www.faq.bag.admin.ch/en/vaccination-documentation/what-are-consequences-temporary-deactivation-mycovidvac-users\n",
      "Question: What are the consequences of the temporary deactivation of myCOVIDvac for users? \n",
      "Answer: Users cannot currently log in to myvaccines.ch and view their data. The service has been temporarily deactivated until the data security issue is resolved.\n",
      "----------------\n",
      "Link: https://www.faq.bag.admin.ch/en/vaccination-information-vaccines/what-currently-known-about-efficacy-and-safety-vaccines\n",
      "Question: What is currently known about the efficacy and safety of the vaccines?\n",
      "Answer: The vaccine manufacturers have carried out studies on the efficacy and safety of the vaccines. The results of the studies indicated an effective  protection against falling ill with Covid-19 of 94 percent or more. The vaccines were also shown to provide good protection for older people and people with chronic conditions, preventing them from contracting the disease or resulting in only mild symptoms if they do contract it.\n",
      "----------------\n",
      "Link: https://www.faq.bag.admin.ch/en/vaccination-information-vaccines/can-mrna-vaccine-change-my-genetic-material-dnagenes\n",
      "Question: Can an mRNA vaccine change my genetic material (DNA/genes)?\n",
      "Answer: No. The mRNA administered with the vaccination is unable to reach the nucleus and incorporate itself in the human genome (DNA/genes). Furthermore, both the mRNA from the vaccine and the proteins produced in the cells are quickly broken down by the body once more. This is because by this time the body has already launched the required immune response and the mRNA and the proteins are no longer needed to protect the body against the coronavirus.\n",
      "----------------\n",
      "Link: https://www.faq.bag.admin.ch/en/side-effects-and-liability/who-covers-costs-if-there-are-side-effects-after-vaccination\n",
      "Question: Who covers the costs if there are side effects after the vaccination?\n",
      "Answer: The treatment of side-effects counts as treatment of an illness. The costs will be paid by your mandatory basic health insurance, minus any cost shares (annual deductible and copayment).\n",
      "----------------\n",
      "Link: https://www.faq.bag.admin.ch/en/vaccination-information-vaccines/which-covid-19-vaccines-are-being-used-switzerland\n",
      "Question: Which COVID-19 vaccines are being used in Switzerland?\n",
      "Answer: Swissmedic has approved two Covid-19 vaccines. \n",
      "----------------\n",
      "Link: https://www.faq.bag.admin.ch/en/vaccination-miscellaneous-questions/vaccination-voluntary\n",
      "Question: Is the vaccination voluntary?\n",
      "Answer: Yes. Vaccinations are voluntary in Switzerland. There are no plans for compulsory vaccination.\n",
      "----------------\n",
      "Link: https://www.faq.bag.admin.ch/en/vaccination-change-measures-vaccinated-people/do-i-still-have-observe-hygiene-and-social-distancing\n",
      "Question: Do I still have to observe the hygiene and social distancing rules if I have been vaccinated?\n",
      "Answer: Yes, absolutely. The \n",
      "----------------\n",
      "Link: https://www.faq.bag.admin.ch/en/vaccination-miscellaneous-questions/i-have-questions-about-vaccination-where-can-i-get-advice\n",
      "Question: I have questions about the vaccination. Where can I get advice? \n",
      "Answer: There are various places you can consult for advice, for example your doctor, a pharmacist or on the infoline at +41 58 377 88 92.\n",
      "----------------\n",
      "Link: https://www.faq.bag.admin.ch/en/vaccination-side-effects-and-liability/what-must-i-do-if-i-have-impression-i-am-experiencing-side\n",
      "Question: What must I do if I have the impression that I am experiencing side effects from the COVID-19 vaccination? \n",
      "Answer: Slight side effects will generally disappear after a few days. But if you still have side effects after a week or the side effects are getting worse, if you feel unwell for a longer period of time after the vaccination or if you notice something unusual a few weeks after the vaccination, you should consult your doctor.\n",
      "----------------\n",
      "Link: https://www.faq.bag.admin.ch/en/vaccination-vaccination-recommendations-and-strategy/who-issues-vaccination-recommendations-and-how\n",
      "Question: Who issues the vaccination recommendations and how are the vaccination recommendations drawn up?\n",
      "Answer: In Switzerland, vaccination recommendations are drawn up by the Federal Commission for Vaccination (FCV) in cooperation with the Federal Office of Public Health (FOPH). The Federal Commission for Vaccination (FCV) is an independent commission of experts.\n",
      "----------------\n",
      "Link: https://www.faq.bag.admin.ch/en/vaccination-miscellaneous-questions/can-i-be-forced-have-vaccination\n",
      "Question: Can I be forced to have the vaccination? \n",
      "Answer: The law basically excludes the possibility of a general compulsory vaccination requirement for the population. Each individual should be able to be decide for themselves on the basis of transparent and understandable information whether they want to be vaccinated.\n",
      "----------------\n",
      "Link: https://www.faq.bag.admin.ch/en/vaccination-side-effects-and-liability/can-i-contract-new-coronavirus-through-vaccination\n",
      "Question: Can I contract the new coronavirus through the vaccination?\n",
      "Answer: No. You cannot contract the new coronavirus through the administration of the vaccine. The vaccine does not contain any coronaviruses.\n",
      "----------------\n",
      "Link: https://www.faq.bag.admin.ch/en/information-vaccines/besides-clinical-trials-any-information-already-available-efficacy-vaccines\n",
      "Question: Besides clinical trials, is any information already available on the efficacy of the vaccines?\n",
      "Answer: According to the findings of the clinical trials, the Pfizer/BioNTech vaccine (Comirnaty®) provides 95 per cent protection from contracting coronavirus disease. These trial results are confirmed by initial findings from the vaccination campaign in Israel published at the end of January 2021:\n",
      "----------------\n",
      "Link: https://www.faq.bag.admin.ch/en/vaccination-vaccination-recommendations-and-strategy/i-am-not-deemed-be-person-especially-high-risk\n",
      "Question: I am not deemed to be a person at especially high risk. Should I still get vaccinated against Covid-19? \n",
      "Answer: At present, the vaccination is only earmarked for specific, prioritised target groups (e.g. people deemed to be at especially high risk). Moving forwards, the vaccination will also be available for other target groups. This will be dependent on the availability of the vaccines.\n",
      "----------------\n",
      "Link: https://www.faq.bag.admin.ch/en/vaccination-information-vaccines/why-moderna-vaccine-only-approved-people-aged-18-and-over\n",
      "Question: Why is the Moderna vaccine only approved for people aged 18 and over? \n",
      "Answer: The trials for the Moderna vaccine were done with people aged 18 and over. At the moment the relevant study data isn’t available for younger people. This is why the vaccine is approved for people aged 18 and over. When more data for other age groups is available it will be possible to adapt the age restrictions for approval accordingly.\n",
      "----------------\n",
      "Link: https://www.faq.bag.admin.ch/en/vaccination-development-and-approval-vaccines/how-was-it-possible-develop-vaccines-against-new\n",
      "Question: How was it possible to develop vaccines against the new coronavirus so quickly?\n",
      "Answer: During the development of a vaccine against the new coronavirus, the various phases of vaccine development were conducted in parallel. This saved time. Normally, the vaccine development phases are carried out sequentially.\n",
      "----------------\n",
      "Link: https://www.faq.bag.admin.ch/en/vaccination-miscellaneous-questions/how-much-does-vaccination-cost-and-who-will-pay-it\n",
      "Question: How much does the vaccination cost and who will pay for it?\n",
      "Answer: The COVID-19 vaccination is free of charge for people living in Switzerland. The costs will be covered by their mandatory basic health insurance, the Swiss federal government and the cantons.\n",
      "----------------\n",
      "Link: https://www.faq.bag.admin.ch/en/vaccination-information-vaccines/what-mrna-and-how-does-mrna-vaccine-work\n",
      "Question: What is mRNA and how does an mRNA vaccine work?\n",
      "Answer: mRNA stands for messenger ribonucleic acid (“messenger RNA”). The human body produces mRNA naturally and requires it in order to make vital proteins.\n",
      "----------------\n",
      "Link: https://www.faq.bag.admin.ch/en/vaccination-miscellaneous-questions/can-i-consult-my-doctor-advice-about-covid-19-vaccination-if-so\n",
      "Question: Can I consult my doctor for advice about the COVID-19 vaccination? If so, what does it cost? \n",
      "Answer: Your doctor can give you individual advice on the COVID-19 vaccination in the light of your health situation. Your doctor will bill this advice like other treatments, and it will be covered by your mandatory basic health insurance. You have to pay the deductible and the 10 per cent copayment.\n",
      "----------------\n",
      "Link: https://www.faq.bag.admin.ch/en/vaccination-development-and-approval-vaccines/what-are-tasks-swissmedic\n",
      "Question: What are the tasks of Swissmedic?\n",
      "Answer: Swissmedic, the Swiss Agency for Therapeutic Products, is responsible for the authorisation and monitoring of vaccines in Switzerland. Swissmedic assesses the efficacy, safety and quality of vaccines. If these criteria are assured, Swissmedic will grant market authorisation for a vaccine to be used in Switzerland.\n",
      "----------------\n",
      "Link: https://www.faq.bag.admin.ch/en/vaccination-vaccination-recommendations-and-strategy/who-decides-priorities-vaccination-if\n",
      "Question: Who decides on priorities for vaccination if sufficient doses of the vaccine are not available initially?\n",
      "Answer: The cantons are allotted quotas according to their population size, on the basis of which they can order vaccinations for their canton. The cantons (and thus also cantonal health personnel) individually decide on a cantonal vaccination strategy and prioritization model. In order for this to occur in a more or less consistent manner across Switzerland, the Federal Vaccination Commission and the FOPH have jointly recommended a prioritization model.\n",
      "----------------\n",
      "Link: https://www.faq.bag.admin.ch/en/vaccination-miscellaneous-questions/what-are-implications-new-coronavirus-variants-authorised\n",
      "Question: What are the implications of the new coronavirus variants for the authorised Pfizer/BioNTech and Moderna COVID-19 vaccinations?\n",
      "Answer: According to the latest findings, the COVID-19 vaccination is also effective against the \n",
      "----------------\n",
      "Link: https://www.faq.bag.admin.ch/en/vaccination-side-effects-and-liability/are-all-medical-incidents-occurring-shortly-after-vaccination\n",
      "Question: Are all the medical incidents occurring shortly after a vaccination connected with the vaccination?\n",
      "Answer: No, not all the medical incidents occurring shortly after a vaccination are connected with the vaccination. Acute medical problems can occur at any time, sometimes also in direct temporal relation to a vaccination. This does not mean, however, that these incidents are necessarily a result of the vaccination. The risk of a severe side-effect from the vaccination is much smaller than the risk of a complication of the coronavirus from which the vaccination protects.\n",
      "----------------\n"
     ]
    }
   ],
   "source": [
    "for e in finalEntries:\n",
    "    print(\"Link: \"+ e.link)\n",
    "    print(\"Question: \"+ e.question)\n",
    "    print(\"Answer: \"+ e.answer)\n",
    "    print(\"----------------\")"
   ]
  }
 ],
 "metadata": {
  "kernelspec": {
   "display_name": "Python 3",
   "language": "python",
   "name": "python3"
  },
  "language_info": {
   "codemirror_mode": {
    "name": "ipython",
    "version": 3
   },
   "file_extension": ".py",
   "mimetype": "text/x-python",
   "name": "python",
   "nbconvert_exporter": "python",
   "pygments_lexer": "ipython3",
   "version": "3.9.1"
  }
 },
 "nbformat": 4,
 "nbformat_minor": 4
}
