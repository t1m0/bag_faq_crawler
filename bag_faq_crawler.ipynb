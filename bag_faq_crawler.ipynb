{
 "cells": [
  {
   "cell_type": "code",
   "execution_count": 26,
   "metadata": {},
   "outputs": [],
   "source": [
    "# pip install requests\n",
    "import requests\n",
    "# pip install parsel \n",
    "from parsel import Selector"
   ]
  },
  {
   "cell_type": "code",
   "execution_count": 27,
   "metadata": {},
   "outputs": [],
   "source": [
    "faqEntries = {}\n",
    "def extractEntries(currentPage):\n",
    "    currentEntries = currentPage.css('span a[href]')\n",
    "    for e in currentEntries:\n",
    "        link = e.xpath('@href').get()\n",
    "        question = e.xpath('text()').get()\n",
    "        faqEntries[link] = question\n"
   ]
  },
  {
   "cell_type": "markdown",
   "metadata": {},
   "source": [
    "Load initial page"
   ]
  },
  {
   "cell_type": "code",
   "execution_count": 28,
   "metadata": {},
   "outputs": [],
   "source": [
    "response = requests.get('https://www.faq.bag.admin.ch/en/categories/vaccination')\n",
    "selector = Selector(response.text)"
   ]
  },
  {
   "cell_type": "markdown",
   "metadata": {},
   "source": [
    "Load questions of initial page"
   ]
  },
  {
   "cell_type": "code",
   "execution_count": 29,
   "metadata": {},
   "outputs": [],
   "source": [
    "extractEntries(selector)"
   ]
  },
  {
   "cell_type": "markdown",
   "metadata": {},
   "source": [
    "Load other available pages"
   ]
  },
  {
   "cell_type": "code",
   "execution_count": 32,
   "metadata": {},
   "outputs": [],
   "source": [
    "faqPageSelectors = selector.css('a[title][href]')\n",
    "faqPageUrls = []\n",
    "for p in faqPageSelectors:\n",
    "    url = p.xpath('@href').get()\n",
    "    if \"page\" in url:\n",
    "        response = requests.get('https://www.faq.bag.admin.ch'+url)\n",
    "        selector = Selector(response.text)\n",
    "        extractEntries(selector)"
   ]
  },
  {
   "cell_type": "markdown",
   "metadata": {},
   "source": [
    "Count available questions"
   ]
  },
  {
   "cell_type": "code",
   "execution_count": 34,
   "metadata": {},
   "outputs": [
    {
     "data": {
      "text/plain": [
       "60"
      ]
     },
     "execution_count": 34,
     "metadata": {},
     "output_type": "execute_result"
    }
   ],
   "source": [
    "len(faqEntries)"
   ]
  },
  {
   "cell_type": "markdown",
   "metadata": {},
   "source": [
    "Extract answers"
   ]
  },
  {
   "cell_type": "code",
   "execution_count": 36,
   "metadata": {},
   "outputs": [
    {
     "data": {
      "text/plain": [
       "[<__main__.FAQEntry at 0x11231bf10>,\n",
       " <__main__.FAQEntry at 0x11231b7f0>,\n",
       " <__main__.FAQEntry at 0x11263b460>,\n",
       " <__main__.FAQEntry at 0x112e1d130>,\n",
       " <__main__.FAQEntry at 0x112e1dc40>,\n",
       " <__main__.FAQEntry at 0x112e1d0d0>,\n",
       " <__main__.FAQEntry at 0x112e1da90>,\n",
       " <__main__.FAQEntry at 0x112e1de20>,\n",
       " <__main__.FAQEntry at 0x112e1d2e0>,\n",
       " <__main__.FAQEntry at 0x112e1db80>,\n",
       " <__main__.FAQEntry at 0x112e1d490>,\n",
       " <__main__.FAQEntry at 0x112e1d400>,\n",
       " <__main__.FAQEntry at 0x112e1d100>,\n",
       " <__main__.FAQEntry at 0x112e1daf0>,\n",
       " <__main__.FAQEntry at 0x112d43f40>,\n",
       " <__main__.FAQEntry at 0x112d43670>,\n",
       " <__main__.FAQEntry at 0x112d43b20>,\n",
       " <__main__.FAQEntry at 0x112d438e0>,\n",
       " <__main__.FAQEntry at 0x112d43880>,\n",
       " <__main__.FAQEntry at 0x112d43ca0>,\n",
       " <__main__.FAQEntry at 0x112d43e50>,\n",
       " <__main__.FAQEntry at 0x112d43a00>,\n",
       " <__main__.FAQEntry at 0x112d43850>,\n",
       " <__main__.FAQEntry at 0x112dfdac0>,\n",
       " <__main__.FAQEntry at 0x112dfd3d0>,\n",
       " <__main__.FAQEntry at 0x112dfd670>,\n",
       " <__main__.FAQEntry at 0x112dfd940>,\n",
       " <__main__.FAQEntry at 0x112dfd730>,\n",
       " <__main__.FAQEntry at 0x112dfd130>,\n",
       " <__main__.FAQEntry at 0x112dfd490>,\n",
       " <__main__.FAQEntry at 0x112dfd430>,\n",
       " <__main__.FAQEntry at 0x112dfd820>,\n",
       " <__main__.FAQEntry at 0x112dfd970>,\n",
       " <__main__.FAQEntry at 0x112dfd8e0>,\n",
       " <__main__.FAQEntry at 0x112dfdf70>,\n",
       " <__main__.FAQEntry at 0x112dfd6d0>,\n",
       " <__main__.FAQEntry at 0x112dfda30>,\n",
       " <__main__.FAQEntry at 0x112dfdfd0>,\n",
       " <__main__.FAQEntry at 0x112dfd220>,\n",
       " <__main__.FAQEntry at 0x112dfd340>,\n",
       " <__main__.FAQEntry at 0x112dfd2e0>,\n",
       " <__main__.FAQEntry at 0x112dfd1f0>,\n",
       " <__main__.FAQEntry at 0x112dfd4c0>,\n",
       " <__main__.FAQEntry at 0x112dfd880>,\n",
       " <__main__.FAQEntry at 0x112d524c0>,\n",
       " <__main__.FAQEntry at 0x112d526a0>,\n",
       " <__main__.FAQEntry at 0x112d522b0>,\n",
       " <__main__.FAQEntry at 0x112d521f0>,\n",
       " <__main__.FAQEntry at 0x112d52b20>,\n",
       " <__main__.FAQEntry at 0x112d52d60>,\n",
       " <__main__.FAQEntry at 0x112d52dc0>,\n",
       " <__main__.FAQEntry at 0x112d529d0>,\n",
       " <__main__.FAQEntry at 0x112d52d30>,\n",
       " <__main__.FAQEntry at 0x112d52640>,\n",
       " <__main__.FAQEntry at 0x112d52bb0>,\n",
       " <__main__.FAQEntry at 0x112d52970>,\n",
       " <__main__.FAQEntry at 0x112d52af0>,\n",
       " <__main__.FAQEntry at 0x112d52940>,\n",
       " <__main__.FAQEntry at 0x112d52e50>,\n",
       " <__main__.FAQEntry at 0x112d52070>]"
      ]
     },
     "execution_count": 36,
     "metadata": {},
     "output_type": "execute_result"
    }
   ],
   "source": [
    "class FAQEntry:\n",
    "    link = ''\n",
    "    question = ''\n",
    "    answer = ''\n",
    "\n",
    "finalEntries = []\n",
    "for e in faqEntries:\n",
    "    response = requests.get('https://www.faq.bag.admin.ch'+e)\n",
    "    selector = Selector(response.text)\n",
    "    entry = FAQEntry()\n",
    "    entry.link = e\n",
    "    entry.question = faqEntries[e]\n",
    "    entry.answer = selector.css('.field-item.even').get()\n",
    "    finalEntries.append(entry)\n",
    "finalEntries"
   ]
  },
  {
   "cell_type": "code",
   "execution_count": null,
   "metadata": {},
   "outputs": [],
   "source": []
  }
 ],
 "metadata": {
  "kernelspec": {
   "display_name": "Python 3",
   "language": "python",
   "name": "python3"
  },
  "language_info": {
   "codemirror_mode": {
    "name": "ipython",
    "version": 3
   },
   "file_extension": ".py",
   "mimetype": "text/x-python",
   "name": "python",
   "nbconvert_exporter": "python",
   "pygments_lexer": "ipython3",
   "version": "3.9.1"
  }
 },
 "nbformat": 4,
 "nbformat_minor": 4
}
