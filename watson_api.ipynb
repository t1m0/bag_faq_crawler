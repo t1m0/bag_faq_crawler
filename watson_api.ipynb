{
 "cells": [
  {
   "cell_type": "code",
   "execution_count": 14,
   "metadata": {},
   "outputs": [],
   "source": [
    "import json\n",
    "from ibm_watson import AssistantV1\n",
    "from ibm_watson.assistant_v1 import DialogNodeOutputGenericDialogNodeOutputResponseTypeText,DialogNodeOutputTextValuesElement,DialogNodeOutput\n",
    "from ibm_cloud_sdk_core.authenticators import IAMAuthenticator"
   ]
  },
  {
   "cell_type": "markdown",
   "metadata": {},
   "source": [
    "Setup Assistant"
   ]
  },
  {
   "cell_type": "code",
   "execution_count": 25,
   "metadata": {},
   "outputs": [],
   "source": [
    "workspace_id='PLACE_YOUR_SKILL_ID_HERE' # skill ID \n",
    "authenticator = IAMAuthenticator('PLACE_YOUR_API_KEY_HERE') \n",
    "assistant = AssistantV1(\n",
    "    version='2020-04-01',\n",
    "    authenticator = authenticator\n",
    ")\n",
    "\n",
    "assistant.set_service_url('PLACE_YOUR_WORKSPACE_URL_HERE') # remove \"/v1/workspaces/.../message\" at the end"
   ]
  },
  {
   "cell_type": "markdown",
   "metadata": {},
   "source": [
    "List intents"
   ]
  },
  {
   "cell_type": "code",
   "execution_count": 26,
   "metadata": {},
   "outputs": [
    {
     "name": "stdout",
     "output_type": "stream",
     "text": [
      "{\n",
      "  \"intents\": [\n",
      "    {\n",
      "      \"intent\": \"faq0\",\n",
      "      \"description\": \"Do I still have to go into quarantine/isolation if I have been vaccinated?\"\n",
      "    },\n",
      "    {\n",
      "      \"intent\": \"faq1\",\n",
      "      \"description\": \"How and where can I register for the vaccination?\"\n",
      "    },\n",
      "    {\n",
      "      \"intent\": \"faq10\",\n",
      "      \"description\": \"How is the vaccine administered and how many doses are required?\"\n",
      "    },\n",
      "    {\n",
      "      \"intent\": \"faq11\",\n",
      "      \"description\": \"What side effects can occur after the vaccination?\"\n",
      "    },\n",
      "    {\n",
      "      \"intent\": \"faq12\",\n",
      "      \"description\": \"Is the vaccination still recommended if I\\u2019ve already had the new coronavirus?\"\n",
      "    },\n",
      "    {\n",
      "      \"intent\": \"faq13\",\n",
      "      \"description\": \"Am I already protected from getting coronavirus disease after the first dose of vaccine? \"\n",
      "    },\n",
      "    {\n",
      "      \"intent\": \"faq14\",\n",
      "      \"description\": \"Can an mRNA vaccine change my genetic material (DNA/genes)?\"\n",
      "    },\n",
      "    {\n",
      "      \"intent\": \"faq15\",\n",
      "      \"description\": \"Are there differences between the Pfizer/BioNTech and Moderna vaccines?\"\n",
      "    },\n",
      "    {\n",
      "      \"intent\": \"faq16\",\n",
      "      \"description\": \"Does the test procedure change if I have had the vaccination? \"\n",
      "    },\n",
      "    {\n",
      "      \"intent\": \"faq17\",\n",
      "      \"description\": \"What is COVID arm?\"\n",
      "    },\n",
      "    {\n",
      "      \"intent\": \"faq18\",\n",
      "      \"description\": \"How is my COVID-19 vaccination documented?\"\n",
      "    },\n",
      "    {\n",
      "      \"intent\": \"faq19\",\n",
      "      \"description\": \"Which COVID-19 vaccines are being used in Switzerland?\"\n",
      "    },\n",
      "    {\n",
      "      \"intent\": \"faq2\",\n",
      "      \"description\": \"Which persons are not being vaccinated at present?\"\n",
      "    },\n",
      "    {\n",
      "      \"intent\": \"faq20\",\n",
      "      \"description\": \"Do I still have to observe the hygiene and social distancing rules if I have been vaccinated?\"\n",
      "    },\n",
      "    {\n",
      "      \"intent\": \"faq21\",\n",
      "      \"description\": \"Who is liable for any vaccination damage?\"\n",
      "    },\n",
      "    {\n",
      "      \"intent\": \"faq22\",\n",
      "      \"description\": \"Should I have the vaccination if I\\u2019m ill?\"\n",
      "    },\n",
      "    {\n",
      "      \"intent\": \"faq23\",\n",
      "      \"description\": \"How much does the vaccination cost and who will pay for it?\"\n",
      "    },\n",
      "    {\n",
      "      \"intent\": \"faq24\",\n",
      "      \"description\": \"Why is the Moderna vaccine only approved for people aged 18 and over? \"\n",
      "    },\n",
      "    {\n",
      "      \"intent\": \"faq25\",\n",
      "      \"description\": \"What is the vaccination strategy?\"\n",
      "    },\n",
      "    {\n",
      "      \"intent\": \"faq26\",\n",
      "      \"description\": \"What is mRNA and how does an mRNA vaccine work?\"\n",
      "    },\n",
      "    {\n",
      "      \"intent\": \"faq27\",\n",
      "      \"description\": \"How long after the vaccination can side effects occur?\"\n",
      "    },\n",
      "    {\n",
      "      \"intent\": \"faq28\",\n",
      "      \"description\": \"Who covers the costs if there are side effects after the vaccination?\"\n",
      "    },\n",
      "    {\n",
      "      \"intent\": \"faq29\",\n",
      "      \"description\": \"What must I do if I have the impression that I am experiencing side effects from the COVID-19 vaccination? \"\n",
      "    },\n",
      "    {\n",
      "      \"intent\": \"faq3\",\n",
      "      \"description\": \"Can tourists be vaccinated in Switzerland?\"\n",
      "    },\n",
      "    {\n",
      "      \"intent\": \"faq30\",\n",
      "      \"description\": \"What are the consequences of the temporary deactivation of myCOVIDvac for users? \"\n",
      "    },\n",
      "    {\n",
      "      \"intent\": \"faq31\",\n",
      "      \"description\": \"I am not deemed to be a person at especially high risk. Should I still get vaccinated against Covid-19? \"\n",
      "    },\n",
      "    {\n",
      "      \"intent\": \"faq32\",\n",
      "      \"description\": \"Can I be forced to have the vaccination? \"\n",
      "    },\n",
      "    {\n",
      "      \"intent\": \"faq33\",\n",
      "      \"description\": \"How was it possible to develop vaccines against the new coronavirus so quickly?\"\n",
      "    },\n",
      "    {\n",
      "      \"intent\": \"faq34\",\n",
      "      \"description\": \"Can I contract the new coronavirus through the vaccination?\"\n",
      "    },\n",
      "    {\n",
      "      \"intent\": \"faq35\",\n",
      "      \"description\": \"What is currently known about the efficacy and safety of the vaccines?\"\n",
      "    },\n",
      "    {\n",
      "      \"intent\": \"faq36\",\n",
      "      \"description\": \"Who is to be vaccinated first?\"\n",
      "    },\n",
      "    {\n",
      "      \"intent\": \"faq37\",\n",
      "      \"description\": \"I have questions about the vaccination. Where can I get advice? \"\n",
      "    },\n",
      "    {\n",
      "      \"intent\": \"faq38\",\n",
      "      \"description\": \"Can I also get vaccinated for other diseases in parallel with the COVID-19 vaccination? \"\n",
      "    },\n",
      "    {\n",
      "      \"intent\": \"faq39\",\n",
      "      \"description\": \"What are the implications of the new coronavirus variants for the authorised Pfizer/BioNTech and Moderna COVID-19 vaccinations?\"\n",
      "    },\n",
      "    {\n",
      "      \"intent\": \"faq4\",\n",
      "      \"description\": \"Where can I register for an appointment to have the vaccination if I\\u2019m not in a priority target group?\"\n",
      "    },\n",
      "    {\n",
      "      \"intent\": \"faq40\",\n",
      "      \"description\": \"Who issues the vaccination recommendations and how are the vaccination recommendations drawn up?\"\n",
      "    },\n",
      "    {\n",
      "      \"intent\": \"faq41\",\n",
      "      \"description\": \"Everyone who gets vaccinated receives proof of vaccination in paper form. What information does this document contain?\"\n",
      "    },\n",
      "    {\n",
      "      \"intent\": \"faq42\",\n",
      "      \"description\": \"Is the vaccination voluntary?\"\n",
      "    },\n",
      "    {\n",
      "      \"intent\": \"faq43\",\n",
      "      \"description\": \"Can I consult my doctor for advice about the COVID-19 vaccination? If so, what does it cost? \"\n",
      "    },\n",
      "    {\n",
      "      \"intent\": \"faq44\",\n",
      "      \"description\": \"Who decides on priorities for vaccination if sufficient doses of the vaccine are not available initially?\"\n",
      "    },\n",
      "    {\n",
      "      \"intent\": \"faq45\",\n",
      "      \"description\": \"What are the tasks of Swissmedic?\"\n",
      "    },\n",
      "    {\n",
      "      \"intent\": \"faq46\",\n",
      "      \"description\": \"Besides clinical trials, is any information already available on the efficacy of the vaccines?\"\n",
      "    },\n",
      "    {\n",
      "      \"intent\": \"faq47\",\n",
      "      \"description\": \"Are all the medical incidents occurring shortly after a vaccination connected with the vaccination?\"\n",
      "    },\n",
      "    {\n",
      "      \"intent\": \"faq5\",\n",
      "      \"description\": \"Does confirmation of the vaccination enable me to travel freely again? \"\n",
      "    },\n",
      "    {\n",
      "      \"intent\": \"faq6\",\n",
      "      \"description\": \"If more than one vaccine is approved in Switzerland can I choose between vaccines? Who decides what vaccine I am given?\"\n",
      "    },\n",
      "    {\n",
      "      \"intent\": \"faq7\",\n",
      "      \"description\": \"Can I have the vaccination if I have an allergy?\"\n",
      "    },\n",
      "    {\n",
      "      \"intent\": \"faq8\",\n",
      "      \"description\": \"Can I only be vaccinated in my canton of residence and who covers the costs?\"\n",
      "    },\n",
      "    {\n",
      "      \"intent\": \"faq9\",\n",
      "      \"description\": \"What certificate will I receive after the COVID-19 vaccination? Is this an official national/international document? \"\n",
      "    }\n",
      "  ],\n",
      "  \"pagination\": {\n",
      "    \"refresh_url\": \"/v1/workspaces/a33e3317-df03-4dde-aeb3-19c5150c38c4/intents?version=2020-04-01\"\n",
      "  }\n",
      "}\n"
     ]
    }
   ],
   "source": [
    "response=assistant.list_intents(\n",
    "    workspace_id=workspace_id\n",
    ").get_result()\n",
    "\n",
    "print(json.dumps(response, indent=2))"
   ]
  },
  {
   "cell_type": "markdown",
   "metadata": {},
   "source": [
    "Delete Intent (if it's already existing)"
   ]
  },
  {
   "cell_type": "code",
   "execution_count": 93,
   "metadata": {},
   "outputs": [
    {
     "name": "stdout",
     "output_type": "stream",
     "text": [
      "{}\n"
     ]
    }
   ],
   "source": [
    "\n",
    "response=assistant.delete_intent(\n",
    "    workspace_id=workspace_id,\n",
    "    intent='faq1'\n",
    ").get_result()\n",
    "\n",
    "print(json.dumps(response, indent=2))"
   ]
  },
  {
   "cell_type": "markdown",
   "metadata": {},
   "source": [
    "Create intent"
   ]
  },
  {
   "cell_type": "code",
   "execution_count": 94,
   "metadata": {},
   "outputs": [
    {
     "name": "stdout",
     "output_type": "stream",
     "text": [
      "{\n",
      "  \"intent\": \"faq1\"\n",
      "}\n"
     ]
    }
   ],
   "source": [
    "faqQuestion = 'Can children transmit the new coronavirus?'\n",
    "response=assistant.create_intent(\n",
    "    workspace_id=workspace_id,\n",
    "    intent='faq1',\n",
    "    examples=[\n",
    "        {\n",
    "            'text': faqQuestion,\n",
    "            'description': faqQuestion\n",
    "        }\n",
    "    ]\n",
    ").get_result()\n",
    "\n",
    "print(json.dumps(response, indent=2))"
   ]
  },
  {
   "cell_type": "markdown",
   "metadata": {},
   "source": [
    "Create dialog entry"
   ]
  },
  {
   "cell_type": "code",
   "execution_count": 111,
   "metadata": {},
   "outputs": [],
   "source": [
    "output=DialogNodeOutputGenericDialogNodeOutputResponseTypeText(\n",
    "    response_type = 'text',\n",
    "    values = [\n",
    "        DialogNodeOutputTextValuesElement(text = 'Children under age 12 are in most cases infected with the new coronavirus by adults. They themselves rarely spread the virus to other people. Children aged 12 and over are more likely to contribute to the spread the virus. In most cases the disease is less severe for children, and they often have mild symptoms or no symptoms at all.')\n",
    "    ],\n",
    "    selection_policy = 'sequential'\n",
    ")"
   ]
  },
  {
   "cell_type": "code",
   "execution_count": 112,
   "metadata": {},
   "outputs": [
    {
     "ename": "ApiException",
     "evalue": "Error: Unique Violation: The value \"faq1\" already exists, Code: 400 , X-global-transaction-id: 31f57132-d8b7-4302-8fa4-4f5c3969a134",
     "output_type": "error",
     "traceback": [
      "\u001b[0;31m---------------------------------------------------------------------------\u001b[0m",
      "\u001b[0;31mApiException\u001b[0m                              Traceback (most recent call last)",
      "\u001b[0;32m<ipython-input-112-6b36e15eb814>\u001b[0m in \u001b[0;36m<module>\u001b[0;34m\u001b[0m\n\u001b[0;32m----> 1\u001b[0;31m response=assistant.create_dialog_node(\n\u001b[0m\u001b[1;32m      2\u001b[0m     \u001b[0mworkspace_id\u001b[0m\u001b[0;34m=\u001b[0m\u001b[0mworkspace_id\u001b[0m\u001b[0;34m,\u001b[0m\u001b[0;34m\u001b[0m\u001b[0;34m\u001b[0m\u001b[0m\n\u001b[1;32m      3\u001b[0m     \u001b[0mdialog_node\u001b[0m\u001b[0;34m=\u001b[0m\u001b[0;34m'faq1'\u001b[0m\u001b[0;34m,\u001b[0m\u001b[0;34m\u001b[0m\u001b[0;34m\u001b[0m\u001b[0m\n\u001b[1;32m      4\u001b[0m     \u001b[0mconditions\u001b[0m\u001b[0;34m=\u001b[0m\u001b[0;34m'#faq1'\u001b[0m\u001b[0;34m,\u001b[0m\u001b[0;34m\u001b[0m\u001b[0;34m\u001b[0m\u001b[0m\n\u001b[1;32m      5\u001b[0m     \u001b[0mtitle\u001b[0m\u001b[0;34m=\u001b[0m\u001b[0;34m'FAQ1'\u001b[0m\u001b[0;34m,\u001b[0m\u001b[0;34m\u001b[0m\u001b[0;34m\u001b[0m\u001b[0m\n",
      "\u001b[0;32m/usr/local/lib/python3.9/site-packages/ibm_watson/assistant_v1.py\u001b[0m in \u001b[0;36mcreate_dialog_node\u001b[0;34m(self, workspace_id, dialog_node, description, conditions, parent, previous_sibling, output, context, metadata, next_step, title, type, event_name, variable, actions, digress_in, digress_out, digress_out_slots, user_label, disambiguation_opt_out, include_audit, **kwargs)\u001b[0m\n\u001b[1;32m   2904\u001b[0m                                        data=data)\n\u001b[1;32m   2905\u001b[0m \u001b[0;34m\u001b[0m\u001b[0m\n\u001b[0;32m-> 2906\u001b[0;31m         \u001b[0mresponse\u001b[0m \u001b[0;34m=\u001b[0m \u001b[0mself\u001b[0m\u001b[0;34m.\u001b[0m\u001b[0msend\u001b[0m\u001b[0;34m(\u001b[0m\u001b[0mrequest\u001b[0m\u001b[0;34m)\u001b[0m\u001b[0;34m\u001b[0m\u001b[0;34m\u001b[0m\u001b[0m\n\u001b[0m\u001b[1;32m   2907\u001b[0m         \u001b[0;32mreturn\u001b[0m \u001b[0mresponse\u001b[0m\u001b[0;34m\u001b[0m\u001b[0;34m\u001b[0m\u001b[0m\n\u001b[1;32m   2908\u001b[0m \u001b[0;34m\u001b[0m\u001b[0m\n",
      "\u001b[0;32m/usr/local/lib/python3.9/site-packages/ibm_cloud_sdk_core/base_service.py\u001b[0m in \u001b[0;36msend\u001b[0;34m(self, request, **kwargs)\u001b[0m\n\u001b[1;32m    300\u001b[0m                                         status_code=response.status_code)\n\u001b[1;32m    301\u001b[0m \u001b[0;34m\u001b[0m\u001b[0m\n\u001b[0;32m--> 302\u001b[0;31m             \u001b[0;32mraise\u001b[0m \u001b[0mApiException\u001b[0m\u001b[0;34m(\u001b[0m\u001b[0mresponse\u001b[0m\u001b[0;34m.\u001b[0m\u001b[0mstatus_code\u001b[0m\u001b[0;34m,\u001b[0m \u001b[0mhttp_response\u001b[0m\u001b[0;34m=\u001b[0m\u001b[0mresponse\u001b[0m\u001b[0;34m)\u001b[0m\u001b[0;34m\u001b[0m\u001b[0;34m\u001b[0m\u001b[0m\n\u001b[0m\u001b[1;32m    303\u001b[0m         \u001b[0;32mexcept\u001b[0m \u001b[0mrequests\u001b[0m\u001b[0;34m.\u001b[0m\u001b[0mexceptions\u001b[0m\u001b[0;34m.\u001b[0m\u001b[0mSSLError\u001b[0m\u001b[0;34m:\u001b[0m\u001b[0;34m\u001b[0m\u001b[0;34m\u001b[0m\u001b[0m\n\u001b[1;32m    304\u001b[0m             \u001b[0mlogging\u001b[0m\u001b[0;34m.\u001b[0m\u001b[0mexception\u001b[0m\u001b[0;34m(\u001b[0m\u001b[0mself\u001b[0m\u001b[0;34m.\u001b[0m\u001b[0mERROR_MSG_DISABLE_SSL\u001b[0m\u001b[0;34m)\u001b[0m\u001b[0;34m\u001b[0m\u001b[0;34m\u001b[0m\u001b[0m\n",
      "\u001b[0;31mApiException\u001b[0m: Error: Unique Violation: The value \"faq1\" already exists, Code: 400 , X-global-transaction-id: 31f57132-d8b7-4302-8fa4-4f5c3969a134"
     ]
    }
   ],
   "source": [
    "response=assistant.create_dialog_node(\n",
    "    workspace_id=workspace_id,\n",
    "    dialog_node='faq1',\n",
    "    conditions='#faq1',\n",
    "    title='FAQ1',\n",
    "    output = DialogNodeOutput(generic = [output])\n",
    ").get_result()\n",
    "\n",
    "print(json.dumps(response, indent=2))"
   ]
  },
  {
   "cell_type": "markdown",
   "metadata": {},
   "source": [
    "Update Workspace"
   ]
  },
  {
   "cell_type": "code",
   "execution_count": null,
   "metadata": {},
   "outputs": [],
   "source": [
    "update_workspace(self,\n",
    "        workspace_id: str,\n",
    "        *,\n",
    "        name: str = None,\n",
    "        description: str = None,\n",
    "        language: str = None,\n",
    "        dialog_nodes: List['DialogNode'] = None,\n",
    "        counterexamples: List['Counterexample'] = None,\n",
    "        metadata: dict = None,\n",
    "        learning_opt_out: bool = None,\n",
    "        system_settings: 'WorkspaceSystemSettings' = None,\n",
    "        webhooks: List['Webhook'] = None,\n",
    "        intents: List['CreateIntent'] = None,\n",
    "        entities: List['CreateEntity'] = None,\n",
    "        append: bool = None,\n",
    "        include_audit: bool = None,\n",
    "        **kwargs\n",
    "    ) "
   ]
  },
  {
   "cell_type": "code",
   "execution_count": null,
   "metadata": {},
   "outputs": [],
   "source": []
  }
 ],
 "metadata": {
  "kernelspec": {
   "display_name": "Python 3",
   "language": "python",
   "name": "python3"
  },
  "language_info": {
   "codemirror_mode": {
    "name": "ipython",
    "version": 3
   },
   "file_extension": ".py",
   "mimetype": "text/x-python",
   "name": "python",
   "nbconvert_exporter": "python",
   "pygments_lexer": "ipython3",
   "version": "3.9.1"
  }
 },
 "nbformat": 4,
 "nbformat_minor": 4
}
