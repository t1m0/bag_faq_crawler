{
 "cells": [
  {
   "cell_type": "code",
   "execution_count": 101,
   "metadata": {},
   "outputs": [],
   "source": [
    "import json\n",
    "from ibm_watson import AssistantV1\n",
    "from ibm_watson.assistant_v1 import DialogNodeOutputGenericDialogNodeOutputResponseTypeText,DialogNodeOutputTextValuesElement,DialogNodeOutput\n",
    "from ibm_cloud_sdk_core.authenticators import IAMAuthenticator"
   ]
  },
  {
   "cell_type": "markdown",
   "metadata": {},
   "source": [
    "Setup Assistant"
   ]
  },
  {
   "cell_type": "code",
   "execution_count": 91,
   "metadata": {},
   "outputs": [],
   "source": [
    "workspace_id='PLACE_YOUR_SKILL_ID_HERE'\n",
    "authenticator = IAMAuthenticator('PLACE_YOUR_API_KEY_HERE')\n",
    "assistant = AssistantV1(\n",
    "    version='2020-04-01',\n",
    "    authenticator = authenticator\n",
    ")\n",
    "\n",
    "assistant.set_service_url('PLACE_YOUR_WORKSPACE_URL_HERE') # remove \"/message\" at the end"
   ]
  },
  {
   "cell_type": "markdown",
   "metadata": {},
   "source": [
    "List intents"
   ]
  },
  {
   "cell_type": "code",
   "execution_count": 92,
   "metadata": {},
   "outputs": [
    {
     "name": "stdout",
     "output_type": "stream",
     "text": [
      "{\n",
      "  \"intents\": [\n",
      "    {\n",
      "      \"intent\": \"faq1\"\n",
      "    }\n",
      "  ],\n",
      "  \"pagination\": {\n",
      "    \"refresh_url\": \"/v1/workspaces/d496575c-d1ba-45b9-91bb-59b89cb48a93/intents?version=2020-04-01\"\n",
      "  }\n",
      "}\n"
     ]
    }
   ],
   "source": [
    "response=assistant.list_intents(\n",
    "    workspace_id=workspace_id\n",
    ").get_result()\n",
    "\n",
    "print(json.dumps(response, indent=2))"
   ]
  },
  {
   "cell_type": "markdown",
   "metadata": {},
   "source": [
    "Delete Intent (if it's already existing)"
   ]
  },
  {
   "cell_type": "code",
   "execution_count": 93,
   "metadata": {},
   "outputs": [
    {
     "name": "stdout",
     "output_type": "stream",
     "text": [
      "{}\n"
     ]
    }
   ],
   "source": [
    "\n",
    "response=assistant.delete_intent(\n",
    "    workspace_id=workspace_id,\n",
    "    intent='faq1'\n",
    ").get_result()\n",
    "\n",
    "print(json.dumps(response, indent=2))"
   ]
  },
  {
   "cell_type": "markdown",
   "metadata": {},
   "source": [
    "Create intent"
   ]
  },
  {
   "cell_type": "code",
   "execution_count": 94,
   "metadata": {},
   "outputs": [
    {
     "name": "stdout",
     "output_type": "stream",
     "text": [
      "{\n",
      "  \"intent\": \"faq1\"\n",
      "}\n"
     ]
    }
   ],
   "source": [
    "faqQuestion = 'Can children transmit the new coronavirus?'\n",
    "response=assistant.create_intent(\n",
    "    workspace_id=workspace_id,\n",
    "    intent='faq1',\n",
    "    examples=[\n",
    "        {\n",
    "            'text': faqQuestion,\n",
    "            'description': faqQuestion\n",
    "        }\n",
    "    ]\n",
    ").get_result()\n",
    "\n",
    "print(json.dumps(response, indent=2))"
   ]
  },
  {
   "cell_type": "markdown",
   "metadata": {},
   "source": [
    "Create dialog entry"
   ]
  },
  {
   "cell_type": "code",
   "execution_count": 111,
   "metadata": {},
   "outputs": [],
   "source": [
    "output=DialogNodeOutputGenericDialogNodeOutputResponseTypeText(\n",
    "    response_type = 'text',\n",
    "    values = [\n",
    "        DialogNodeOutputTextValuesElement(text = 'Children under age 12 are in most cases infected with the new coronavirus by adults. They themselves rarely spread the virus to other people. Children aged 12 and over are more likely to contribute to the spread the virus. In most cases the disease is less severe for children, and they often have mild symptoms or no symptoms at all.')\n",
    "    ],\n",
    "    selection_policy = 'sequential'\n",
    ")"
   ]
  },
  {
   "cell_type": "code",
   "execution_count": 112,
   "metadata": {},
   "outputs": [
    {
     "ename": "ApiException",
     "evalue": "Error: Unique Violation: The value \"faq1\" already exists, Code: 400 , X-global-transaction-id: 31f57132-d8b7-4302-8fa4-4f5c3969a134",
     "output_type": "error",
     "traceback": [
      "\u001b[0;31m---------------------------------------------------------------------------\u001b[0m",
      "\u001b[0;31mApiException\u001b[0m                              Traceback (most recent call last)",
      "\u001b[0;32m<ipython-input-112-6b36e15eb814>\u001b[0m in \u001b[0;36m<module>\u001b[0;34m\u001b[0m\n\u001b[0;32m----> 1\u001b[0;31m response=assistant.create_dialog_node(\n\u001b[0m\u001b[1;32m      2\u001b[0m     \u001b[0mworkspace_id\u001b[0m\u001b[0;34m=\u001b[0m\u001b[0mworkspace_id\u001b[0m\u001b[0;34m,\u001b[0m\u001b[0;34m\u001b[0m\u001b[0;34m\u001b[0m\u001b[0m\n\u001b[1;32m      3\u001b[0m     \u001b[0mdialog_node\u001b[0m\u001b[0;34m=\u001b[0m\u001b[0;34m'faq1'\u001b[0m\u001b[0;34m,\u001b[0m\u001b[0;34m\u001b[0m\u001b[0;34m\u001b[0m\u001b[0m\n\u001b[1;32m      4\u001b[0m     \u001b[0mconditions\u001b[0m\u001b[0;34m=\u001b[0m\u001b[0;34m'#faq1'\u001b[0m\u001b[0;34m,\u001b[0m\u001b[0;34m\u001b[0m\u001b[0;34m\u001b[0m\u001b[0m\n\u001b[1;32m      5\u001b[0m     \u001b[0mtitle\u001b[0m\u001b[0;34m=\u001b[0m\u001b[0;34m'FAQ1'\u001b[0m\u001b[0;34m,\u001b[0m\u001b[0;34m\u001b[0m\u001b[0;34m\u001b[0m\u001b[0m\n",
      "\u001b[0;32m/usr/local/lib/python3.9/site-packages/ibm_watson/assistant_v1.py\u001b[0m in \u001b[0;36mcreate_dialog_node\u001b[0;34m(self, workspace_id, dialog_node, description, conditions, parent, previous_sibling, output, context, metadata, next_step, title, type, event_name, variable, actions, digress_in, digress_out, digress_out_slots, user_label, disambiguation_opt_out, include_audit, **kwargs)\u001b[0m\n\u001b[1;32m   2904\u001b[0m                                        data=data)\n\u001b[1;32m   2905\u001b[0m \u001b[0;34m\u001b[0m\u001b[0m\n\u001b[0;32m-> 2906\u001b[0;31m         \u001b[0mresponse\u001b[0m \u001b[0;34m=\u001b[0m \u001b[0mself\u001b[0m\u001b[0;34m.\u001b[0m\u001b[0msend\u001b[0m\u001b[0;34m(\u001b[0m\u001b[0mrequest\u001b[0m\u001b[0;34m)\u001b[0m\u001b[0;34m\u001b[0m\u001b[0;34m\u001b[0m\u001b[0m\n\u001b[0m\u001b[1;32m   2907\u001b[0m         \u001b[0;32mreturn\u001b[0m \u001b[0mresponse\u001b[0m\u001b[0;34m\u001b[0m\u001b[0;34m\u001b[0m\u001b[0m\n\u001b[1;32m   2908\u001b[0m \u001b[0;34m\u001b[0m\u001b[0m\n",
      "\u001b[0;32m/usr/local/lib/python3.9/site-packages/ibm_cloud_sdk_core/base_service.py\u001b[0m in \u001b[0;36msend\u001b[0;34m(self, request, **kwargs)\u001b[0m\n\u001b[1;32m    300\u001b[0m                                         status_code=response.status_code)\n\u001b[1;32m    301\u001b[0m \u001b[0;34m\u001b[0m\u001b[0m\n\u001b[0;32m--> 302\u001b[0;31m             \u001b[0;32mraise\u001b[0m \u001b[0mApiException\u001b[0m\u001b[0;34m(\u001b[0m\u001b[0mresponse\u001b[0m\u001b[0;34m.\u001b[0m\u001b[0mstatus_code\u001b[0m\u001b[0;34m,\u001b[0m \u001b[0mhttp_response\u001b[0m\u001b[0;34m=\u001b[0m\u001b[0mresponse\u001b[0m\u001b[0;34m)\u001b[0m\u001b[0;34m\u001b[0m\u001b[0;34m\u001b[0m\u001b[0m\n\u001b[0m\u001b[1;32m    303\u001b[0m         \u001b[0;32mexcept\u001b[0m \u001b[0mrequests\u001b[0m\u001b[0;34m.\u001b[0m\u001b[0mexceptions\u001b[0m\u001b[0;34m.\u001b[0m\u001b[0mSSLError\u001b[0m\u001b[0;34m:\u001b[0m\u001b[0;34m\u001b[0m\u001b[0;34m\u001b[0m\u001b[0m\n\u001b[1;32m    304\u001b[0m             \u001b[0mlogging\u001b[0m\u001b[0;34m.\u001b[0m\u001b[0mexception\u001b[0m\u001b[0;34m(\u001b[0m\u001b[0mself\u001b[0m\u001b[0;34m.\u001b[0m\u001b[0mERROR_MSG_DISABLE_SSL\u001b[0m\u001b[0;34m)\u001b[0m\u001b[0;34m\u001b[0m\u001b[0;34m\u001b[0m\u001b[0m\n",
      "\u001b[0;31mApiException\u001b[0m: Error: Unique Violation: The value \"faq1\" already exists, Code: 400 , X-global-transaction-id: 31f57132-d8b7-4302-8fa4-4f5c3969a134"
     ]
    }
   ],
   "source": [
    "response=assistant.create_dialog_node(\n",
    "    workspace_id=workspace_id,\n",
    "    dialog_node='faq1',\n",
    "    conditions='#faq1',\n",
    "    title='FAQ1',\n",
    "    output = DialogNodeOutput(generic = [output])\n",
    ").get_result()\n",
    "\n",
    "print(json.dumps(response, indent=2))"
   ]
  },
  {
   "cell_type": "code",
   "execution_count": null,
   "metadata": {},
   "outputs": [],
   "source": []
  },
  {
   "cell_type": "code",
   "execution_count": null,
   "metadata": {},
   "outputs": [],
   "source": []
  }
 ],
 "metadata": {
  "kernelspec": {
   "display_name": "Python 3",
   "language": "python",
   "name": "python3"
  },
  "language_info": {
   "codemirror_mode": {
    "name": "ipython",
    "version": 3
   },
   "file_extension": ".py",
   "mimetype": "text/x-python",
   "name": "python",
   "nbconvert_exporter": "python",
   "pygments_lexer": "ipython3",
   "version": "3.9.1"
  }
 },
 "nbformat": 4,
 "nbformat_minor": 4
}
